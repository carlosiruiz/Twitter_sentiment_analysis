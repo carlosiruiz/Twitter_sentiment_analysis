{
 "cells": [
  {
   "cell_type": "markdown",
   "metadata": {},
   "source": [
    "# Webscrape Dataclean"
   ]
  },
  {
   "cell_type": "code",
   "execution_count": 20,
   "metadata": {},
   "outputs": [
    {
     "name": "stderr",
     "output_type": "stream",
     "text": [
      "[nltk_data] Error loading words: <urlopen error [SSL:\n",
      "[nltk_data]     CERTIFICATE_VERIFY_FAILED] certificate verify failed:\n",
      "[nltk_data]     unable to get local issuer certificate (_ssl.c:1108)>\n"
     ]
    }
   ],
   "source": [
    "import pandas as pd\n",
    "import numpy as np\n",
    "import nltk\n",
    "import time\n",
    "import re\n",
    "import string\n",
    "\n",
    "\n",
    "nltk.download(\"words\")\n",
    "from nltk.corpus import words\n",
    "pd.set_option('display.max_columns', 10000)"
   ]
  },
  {
   "cell_type": "code",
   "execution_count": 2,
   "metadata": {},
   "outputs": [
    {
     "name": "stderr",
     "output_type": "stream",
     "text": [
      "b'Skipping line 4715: expected 36 fields, saw 37\\nSkipping line 9582: expected 36 fields, saw 37\\n'\n"
     ]
    }
   ],
   "source": [
    "google_df=pd.read_csv('google_data.csv',error_bad_lines=False)"
   ]
  },
  {
   "cell_type": "code",
   "execution_count": 3,
   "metadata": {},
   "outputs": [],
   "source": [
    "google_df.index=list(google_df.index)\n",
    "google_df=google_df[google_df[\"language\"]=='en']\n",
    "google_df=pd.DataFrame(google_df.tweet, columns=['tweet','company'])\n",
    "google_df.index=list(google_df.index)"
   ]
  },
  {
   "cell_type": "code",
   "execution_count": 4,
   "metadata": {},
   "outputs": [],
   "source": [
    "punctuation=[\",\",\".\",\"#\",\"!\",\"@\",\"$\",\"?\",\"$\",\"%\",\"&\",\"-\",\"_\",\":\",\"=\", \"/\",\";\",'(',\")\", \"{\",\"}\",\"|\"]\n",
    "apple=['iPhone',\"iphones\",'i phones',\"iPad&quot;\",\"iphone \",'i Pad','i Pad',\"Apple.\",\"iPad?\",\"#iPad\",\"#iPhone\",'iPad','Mac',\"iphone,\",'iPod','ipod','ipad','mac','Apple','apple','Apple\\'s','apple\\'s',\"#Apple\",'#apple','I-Pad']\n",
    "google=['Google','google','android','Android','Google.','android,',\"#android\",\"Google's\",'google\\'s','googles' ,'#google','#Google']"
   ]
  },
  {
   "cell_type": "code",
   "execution_count": 5,
   "metadata": {},
   "outputs": [],
   "source": [
    "def company_extract(df):\n",
    "    for index in df.index:\n",
    "        tweet=\"\".join(i if i not in punctuation else \" \" for i in df.tweet[index])\n",
    "        condition=0\n",
    "        df.tweet[index]=tweet\n",
    "\n",
    "\n",
    "        if bool(set(tweet.split())&set(apple))==True:\n",
    "            df.company[index]=(list(set(tweet.split())&set(apple))[0].title().strip(\"'s\")).strip('\\'S')\n",
    "            condition=1\n",
    "        else:\n",
    "            condition=0\n",
    "\n",
    "        if (bool(set(tweet.split())&set(google))==True) and condition==0:\n",
    "            df.company[index]=(list(set(tweet.split())&set(google))[0].title().strip('\\'s')).strip('\\'S')\n",
    "\n",
    "        elif (bool(set(tweet.split())&set(google))==True) and condition==1:\n",
    "            df.company[index]+= \" & \"+(list(set(tweet.split())&set(google))[0].title().strip('\\'s')).strip('\\'S')"
   ]
  },
  {
   "cell_type": "code",
   "execution_count": 6,
   "metadata": {},
   "outputs": [],
   "source": [
    "\n",
    "def clean_text_round1(text):\n",
    "    '''Make text lowercase, remove text in square brackets, remove punctuation and remove words containing numbers.'''\n",
    "    text = text.lower()\n",
    "    text = re.sub('[%s]' % re.escape(string.punctuation), ' ', text)\n",
    "    text = re.sub('\\w*\\d\\w*', ' ', text)\n",
    "    text = re.sub(r'^https?:\\/\\/.*[\\r\\n]*', ' ', text, flags=re.MULTILINE)\n",
    "\n",
    "    return text\n",
    "\n",
    "round1 = lambda x: clean_text_round1(x)"
   ]
  },
  {
   "cell_type": "code",
   "execution_count": 7,
   "metadata": {},
   "outputs": [],
   "source": [
    "company_extract(google_df)"
   ]
  },
  {
   "cell_type": "code",
   "execution_count": 8,
   "metadata": {},
   "outputs": [],
   "source": [
    "google_df['clean_tweet']=google_df.tweet.apply(round1)"
   ]
  },
  {
   "cell_type": "code",
   "execution_count": 9,
   "metadata": {},
   "outputs": [
    {
     "name": "stderr",
     "output_type": "stream",
     "text": [
      "b'Skipping line 828: expected 36 fields, saw 55\\nSkipping line 1263: expected 36 fields, saw 49\\nSkipping line 1283: expected 36 fields, saw 49\\nSkipping line 1294: expected 36 fields, saw 49\\nSkipping line 1306: expected 36 fields, saw 49\\nSkipping line 1370: expected 36 fields, saw 52\\nSkipping line 2062: expected 36 fields, saw 46\\nSkipping line 2065: expected 36 fields, saw 49\\nSkipping line 3352: expected 36 fields, saw 37\\n'\n"
     ]
    }
   ],
   "source": [
    "apple_df=pd.read_csv('apple_data.csv',error_bad_lines=False)"
   ]
  },
  {
   "cell_type": "code",
   "execution_count": 10,
   "metadata": {},
   "outputs": [],
   "source": [
    "apple_df.index=list(apple_df.index)\n",
    "apple_df=apple_df[apple_df[\"language\"]=='en']\n",
    "apple_df=pd.DataFrame(apple_df.tweet, columns=['tweet','company'])\n",
    "apple_df.index=list(apple_df.index)"
   ]
  },
  {
   "cell_type": "code",
   "execution_count": 12,
   "metadata": {},
   "outputs": [],
   "source": [
    "company_extract(apple_df)"
   ]
  },
  {
   "cell_type": "code",
   "execution_count": 13,
   "metadata": {},
   "outputs": [
    {
     "data": {
      "text/plain": [
       "Apple               5710\n",
       "Iphone               132\n",
       "Apple & Google       122\n",
       "Apple & Android       63\n",
       "Ipad                  43\n",
       "Mac                   31\n",
       "Google                 7\n",
       "Iphone & Android       7\n",
       "Iphone & Google        2\n",
       "Android                2\n",
       "Mac & Google           1\n",
       "Ipod                   1\n",
       "Ipad & Android         1\n",
       "Name: company, dtype: int64"
      ]
     },
     "execution_count": 13,
     "metadata": {},
     "output_type": "execute_result"
    }
   ],
   "source": [
    "apple_df.company.value_counts()"
   ]
  },
  {
   "cell_type": "code",
   "execution_count": 14,
   "metadata": {},
   "outputs": [
    {
     "data": {
      "text/plain": [
       "Google              5312\n",
       "Apple & Google       107\n",
       "Android               33\n",
       "Iphone & Google       11\n",
       "Ipad & Google          5\n",
       "Mac & Google           4\n",
       "Apple & Android        3\n",
       "Iphone & Android       2\n",
       "Name: company, dtype: int64"
      ]
     },
     "execution_count": 14,
     "metadata": {},
     "output_type": "execute_result"
    }
   ],
   "source": [
    "google_df.company.value_counts()"
   ]
  },
  {
   "cell_type": "code",
   "execution_count": 23,
   "metadata": {},
   "outputs": [],
   "source": [
    "def tweet_to_dic(df):\n",
    "    dictionary={}\n",
    "    companies=list(df.company.unique())\n",
    "    iteration=1\n",
    "    for company in companies:\n",
    "        print(\"This is iteration: \"+str(iteration)+\" of \"+str(len(companies)))\n",
    "        tweet=[]\n",
    "        for index in df[df[\"company\"]==company].index:\n",
    "            print('\\r' +str(index), end=\"\", flush=True)\n",
    "            tweet.append(\" \".join(i if i  in words.words() else \"\" for i in df.tweet[index].lower().split()))\n",
    "        dictionary[company]=tweet\n",
    "        print(\"\\n\")\n",
    "        iteration+=1\n",
    "    return dictionary"
   ]
  },
  {
   "cell_type": "code",
   "execution_count": 25,
   "metadata": {},
   "outputs": [
    {
     "name": "stdout",
     "output_type": "stream",
     "text": [
      "This is iteration: 1 of 9\n",
      "10092\n",
      "\n",
      "This is iteration: 2 of 9\n",
      "10052\n",
      "\n",
      "This is iteration: 3 of 9\n",
      "10025\n",
      "\n",
      "This is iteration: 4 of 9\n",
      "\n",
      "\n",
      "This is iteration: 5 of 9\n",
      "6984\n",
      "\n",
      "This is iteration: 6 of 9\n",
      "9582\n",
      "\n",
      "This is iteration: 7 of 9\n",
      "8250\n",
      "\n",
      "This is iteration: 8 of 9\n",
      "6514\n",
      "\n",
      "This is iteration: 9 of 9\n",
      "6524\n",
      "\n"
     ]
    }
   ],
   "source": [
    "g_comp_dic=tweet_to_dic(google_df)"
   ]
  },
  {
   "cell_type": "code",
   "execution_count": 26,
   "metadata": {},
   "outputs": [
    {
     "name": "stdout",
     "output_type": "stream",
     "text": [
      "This is iteration: 1 of 14\n",
      "10073\n",
      "\n",
      "This is iteration: 2 of 14\n",
      "\n",
      "\n",
      "This is iteration: 3 of 14\n",
      "9930\n",
      "\n",
      "This is iteration: 4 of 14\n",
      "9806\n",
      "\n",
      "This is iteration: 5 of 14\n",
      "3622\n",
      "\n",
      "This is iteration: 6 of 14\n",
      "10070\n",
      "\n",
      "This is iteration: 7 of 14\n",
      "10014\n",
      "\n",
      "This is iteration: 8 of 14\n",
      "10064\n",
      "\n",
      "This is iteration: 9 of 14\n",
      "9289\n",
      "\n",
      "This is iteration: 10 of 14\n",
      "8333\n",
      "\n",
      "This is iteration: 11 of 14\n",
      "3329\n",
      "\n",
      "This is iteration: 12 of 14\n",
      "4463\n",
      "\n",
      "This is iteration: 13 of 14\n",
      "5901\n",
      "\n",
      "This is iteration: 14 of 14\n",
      "6625\n",
      "\n"
     ]
    }
   ],
   "source": [
    "a_comp_dic=tweet_to_dic(apple_df)"
   ]
  },
  {
   "cell_type": "code",
   "execution_count": 27,
   "metadata": {},
   "outputs": [],
   "source": [
    "dfg=pd.DataFrame(columns=['tweets','company'])\n",
    "dfg['tweets']=list(g_comp_dic.values())\n",
    "dfg['company']=list(g_comp_dic.keys())"
   ]
  },
  {
   "cell_type": "code",
   "execution_count": 28,
   "metadata": {},
   "outputs": [],
   "source": [
    "dfa=pd.DataFrame(columns=['tweets','company'])\n",
    "dfa['tweets']=list(a_comp_dic.values())\n",
    "dfa['company']=list(a_comp_dic.keys())"
   ]
  },
  {
   "cell_type": "code",
   "execution_count": 29,
   "metadata": {},
   "outputs": [],
   "source": [
    "dfg.to_csv('dfg.csv')\n",
    "dfa.to_csv('dfa.csv')"
   ]
  },
  {
   "cell_type": "code",
   "execution_count": null,
   "metadata": {},
   "outputs": [],
   "source": []
  },
  {
   "cell_type": "code",
   "execution_count": null,
   "metadata": {},
   "outputs": [],
   "source": []
  },
  {
   "cell_type": "code",
   "execution_count": null,
   "metadata": {},
   "outputs": [],
   "source": []
  }
 ],
 "metadata": {
  "kernelspec": {
   "display_name": "Python 3",
   "language": "python",
   "name": "python3"
  },
  "language_info": {
   "codemirror_mode": {
    "name": "ipython",
    "version": 3
   },
   "file_extension": ".py",
   "mimetype": "text/x-python",
   "name": "python",
   "nbconvert_exporter": "python",
   "pygments_lexer": "ipython3",
   "version": "3.8.3"
  }
 },
 "nbformat": 4,
 "nbformat_minor": 4
}
